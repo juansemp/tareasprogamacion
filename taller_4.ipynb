{
  "nbformat": 4,
  "nbformat_minor": 0,
  "metadata": {
    "colab": {
      "provenance": []
    },
    "kernelspec": {
      "name": "python3",
      "display_name": "Python 3"
    },
    "language_info": {
      "name": "python"
    }
  },
  "cells": [
    {
      "cell_type": "code",
      "execution_count": null,
      "metadata": {
        "colab": {
          "base_uri": "https://localhost:8080/"
        },
        "id": "CUa3UVi45n2J",
        "outputId": "e1bfab3a-a866-4a9e-fc13-861f88581913"
      },
      "outputs": [
        {
          "output_type": "stream",
          "name": "stdout",
          "text": [
            "digite la edad del trabajador67\n",
            "digite el sueldo del trabajador $40000\n",
            "por su edad la empresa le otorga un bono del 5% y su sueldo es de =$42,000 \n"
          ]
        }
      ],
      "source": [
        "def suel(su):\n",
        " if su >55:\n",
        "  bono1 = sueldof * 0.05\n",
        "  bono = bono1 + sueldof\n",
        "  print(f\"por su edad la empresa le otorga un bono del 5% y su sueldo es de =${bono:,.0f} \")\n",
        " else:\n",
        "  print(f\"su sueldo es de =${sueldof:,.0f} \")\n",
        "edadf =int(input(\"digite la edad del trabajador\"))\n",
        "sueldof =float(input(\"digite el sueldo del trabajador $\"))\n",
        "suel (edadf)"
      ]
    },
    {
      "cell_type": "code",
      "source": [
        "def traba(tra):\n",
        " if tra >20 and sala <1000000:\n",
        "  print(\"la empresa te otorga un bono de alimentacion \")\n",
        " else:\n",
        "  print(\"usted no cuenta con ningun beneficio\")\n",
        "trabajodias = float(input(\"usted cuantos dias trabaja almes : \"))\n",
        "sala = float(input(\"su sueldo basico es de? $\"))\n",
        "traba (trabajodias)"
      ],
      "metadata": {
        "colab": {
          "base_uri": "https://localhost:8080/"
        },
        "id": "mnqkJWwLA_u3",
        "outputId": "71de8b2a-3d4f-4d92-8741-b6296abe5b23"
      },
      "execution_count": null,
      "outputs": [
        {
          "output_type": "stream",
          "name": "stdout",
          "text": [
            "usted cuantos dias trabaja almes : 26\n",
            "su sueldo basico es de? $500000\n",
            "la empresa te otorga un bono de alimentacion \n"
          ]
        }
      ]
    },
    {
      "cell_type": "code",
      "source": [
        "def casa(cas):\n",
        " if cas == bene:\n",
        "  print(\"la empresa te otorga un paseo todos los diciembres \")\n",
        " else:\n",
        "  print(\"usted no cuenta con ningun beneficio\")\n",
        "casado = input(\"usted es casado y tiene hijos: \")\n",
        "bene = \"si\"\n",
        "casa (casado)"
      ],
      "metadata": {
        "colab": {
          "base_uri": "https://localhost:8080/"
        },
        "id": "KuDP9iuFCIPq",
        "outputId": "f7445789-1f54-4a3b-b02a-1ef7a60e51ce"
      },
      "execution_count": null,
      "outputs": [
        {
          "output_type": "stream",
          "name": "stdout",
          "text": [
            "usted es casado y tiene hijos: si\n",
            "la empresa te otorga un paseo todos los diciembres \n"
          ]
        }
      ]
    }
  ]
}