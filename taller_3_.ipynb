{
  "nbformat": 4,
  "nbformat_minor": 0,
  "metadata": {
    "colab": {
      "provenance": []
    },
    "kernelspec": {
      "name": "python3",
      "display_name": "Python 3"
    },
    "language_info": {
      "name": "python"
    }
  },
  "cells": [
    {
      "cell_type": "code",
      "execution_count": null,
      "metadata": {
        "colab": {
          "base_uri": "https://localhost:8080/"
        },
        "id": "GocyJRit8C_C",
        "outputId": "c74eab61-1d1b-4686-860a-cbbaa57b4082"
      },
      "outputs": [
        {
          "output_type": "stream",
          "name": "stdout",
          "text": [
            "digitar el numero a multiplicar: 23\n",
            "0  X  23  =  0\n",
            "1  X  23  =  23\n",
            "2  X  23  =  46\n",
            "3  X  23  =  69\n",
            "4  X  23  =  92\n",
            "5  X  23  =  115\n",
            "6  X  23  =  138\n",
            "7  X  23  =  161\n",
            "8  X  23  =  184\n",
            "9  X  23  =  207\n",
            "10  X  23  =  230\n",
            "termino la tabla de multiplicacion\n"
          ]
        }
      ],
      "source": [
        "numero = int(input(\"digitar el numero a multiplicar: \"))\n",
        "for i in range(11):\n",
        "  print(i, \" X \", numero , \" = \", numero * i)\n",
        "else:\n",
        "  print(\"termino la tabla de multiplicacion\")"
      ]
    },
    {
      "cell_type": "code",
      "source": [
        "respuesta =\"si\"\n",
        "while respuesta ==\"si\":\n",
        "  sueldof =float(input(\"digite el sueldo del trabajador $\"))\n",
        "  if sueldof <655000 :\n",
        "    bono1 = sueldof * 0.04\n",
        "    bono = bono1 + sueldof\n",
        "    print(f\"por su salario la empresa le otorga un bono del 4% y su sueldo es de =${bono:,.0f} \")\n",
        "  else:\n",
        "    print(f\"su sueldo es de =${sueldof:,.0f} \")\n",
        "  respuesta = input(\"desea digitar otro salario \")"
      ],
      "metadata": {
        "colab": {
          "base_uri": "https://localhost:8080/"
        },
        "id": "tV9kQmnQ98sw",
        "outputId": "78fb4605-1f11-4b31-f0c9-287a5e78434c"
      },
      "execution_count": null,
      "outputs": [
        {
          "name": "stdout",
          "output_type": "stream",
          "text": [
            "digite el sueldo del trabajador $7000000\n",
            "su sueldo es de =$7,000,000 \n",
            "desea digitar otro salario si\n",
            "digite el sueldo del trabajador $50000\n",
            "por su salario la empresa le otorga un bono del 4% y su sueldo es de =$52,000 \n",
            "desea digitar otro salario si\n",
            "digite el sueldo del trabajador $604000\n",
            "por su salario la empresa le otorga un bono del 4% y su sueldo es de =$628,160 \n",
            "desea digitar otro salario j\n"
          ]
        }
      ]
    },
    {
      "cell_type": "code",
      "source": [],
      "metadata": {
        "id": "56jI9im1SLxo"
      },
      "execution_count": null,
      "outputs": []
    }
  ]
}