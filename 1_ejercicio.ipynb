{
  "nbformat": 4,
  "nbformat_minor": 0,
  "metadata": {
    "colab": {
      "provenance": []
    },
    "kernelspec": {
      "name": "python3",
      "display_name": "Python 3"
    },
    "language_info": {
      "name": "python"
    }
  },
  "cells": [
    {
      "cell_type": "code",
      "source": [
        "identificacion =\"1012335101 \"\n",
        "nombres = \"juan \"\n",
        "apellidos =\"mendoza\"\n",
        "direccion =\" carrera 95a N138 65 \"\n",
        "telefono =\"3112785502 \"\n",
        "edad =\"35 \"\n",
        "estadocivil =\"casado \"\n",
        "hijos =\"3 \"\n",
        "estatura =\"1,75 \"\n",
        "fechacontrato =\"1/3/2023 \"\n",
        "sueldo =\"3150000 \"\n",
        "diaslaborados =\"24\"\n",
        "print(identificacion +\",\" + nombres + apellidos + \",\" + direccion + telefono + edad + estadocivil + hijos + estatura + fechacontrato + sueldo + diaslaborados)"
      ],
      "metadata": {
        "colab": {
          "base_uri": "https://localhost:8080/"
        },
        "id": "F6pJIvOTdTjn",
        "outputId": "0e4c4f91-3da5-4f73-fcd4-c73b2437758f"
      },
      "execution_count": null,
      "outputs": [
        {
          "output_type": "stream",
          "name": "stdout",
          "text": [
            "1012335101 ,juan mendoza, carrera 95a N138 65 3112785502 35 casado 3 1,75 1/3/2023 3150000 24\n"
          ]
        }
      ]
    },
    {
      "cell_type": "code",
      "source": [
        "edadf =int(input(\"digite la edad del trabajador\"))\n",
        "sueldof =float(input(\"digite el sueldo del trabajador $\"))\n",
        "if edadf >55:\n",
        "  bono1 = sueldof * 0.05\n",
        "  bono = bono1 + sueldof\n",
        "  print(f\"por su edad la empresa le otorga un bono del 5% y su sueldo es de =${bono:,.0f} \")\n",
        "else:\n",
        "  print(f\"su sueldo es de =${sueldof:,.0f} \")"
      ],
      "metadata": {
        "colab": {
          "base_uri": "https://localhost:8080/"
        },
        "id": "xpM_2j0l2yDk",
        "outputId": "08ce3495-c81c-4fba-d588-3244f82c56d1"
      },
      "execution_count": null,
      "outputs": [
        {
          "output_type": "stream",
          "name": "stdout",
          "text": [
            "digite la edad del trabajador35\n",
            "digite el sueldo del trabajador $3150000\n",
            "su sueldo es de =$3,150,000 \n"
          ]
        }
      ]
    },
    {
      "cell_type": "code",
      "source": [
        "casado = input(\"usted es casado y tiene hijos: \")\n",
        "bene = \"si\"\n",
        "if casado == bene:\n",
        "  print(\"la empresa te otorga un paseo todos los diciembres \")\n",
        "else:\n",
        "  print(\"usted no cuenta con ningun beneficio\")"
      ],
      "metadata": {
        "colab": {
          "base_uri": "https://localhost:8080/"
        },
        "id": "KglaVSEp606B",
        "outputId": "ffc465dd-530e-41ed-8107-f81a2f66717b"
      },
      "execution_count": null,
      "outputs": [
        {
          "output_type": "stream",
          "name": "stdout",
          "text": [
            "usted es casado y tiene hijos: si\n",
            "la empresa te otorga un paseo todos los diciembres \n"
          ]
        }
      ]
    },
    {
      "cell_type": "code",
      "source": [
        "sueldob = float(input(\"su sueldo basico es de $\"))\n",
        "comi1 = sueldob * 0.02\n",
        "comi12 = sueldob + comi1\n",
        "comi2 = sueldob * 0.05\n",
        "comi22 = sueldob + comi2\n",
        "if sueldob >= 1000000 and sueldob <=1500000: \n",
        "  print(f\"la empresa te otorga una comision y tu sueldo es de ${comi12:,.0f} \")\n",
        "if sueldob >= 1500001 and sueldob <=2000000: \n",
        " print(f\"la empresa te otorga una comision y tu sueldo es de ${comi22:,.0f} \")\n",
        "else:\n",
        " print(\"usted no cuenta con ningun beneficio\")"
      ],
      "metadata": {
        "colab": {
          "base_uri": "https://localhost:8080/"
        },
        "id": "TDW5E-1B9Tvc",
        "outputId": "6d7b416d-2c76-49cb-ae8f-398b303ceb75"
      },
      "execution_count": null,
      "outputs": [
        {
          "output_type": "stream",
          "name": "stdout",
          "text": [
            "su sueldo basico es de $3150000\n",
            "usted no cuenta con ningun beneficio\n"
          ]
        }
      ]
    },
    {
      "cell_type": "code",
      "source": [
        "trabajodias = float(input(\"usted cuantos dias trabaja almes : \"))\n",
        "sala = float(input(\"su sueldo basico es de? $\"))\n",
        "if trabajodias >20 and sala <1000000:\n",
        " print(\"la empresa te otorga un bono de alimentacion \")\n",
        "else:\n",
        "  print(\"usted no cuenta con ningun beneficio\")"
      ],
      "metadata": {
        "colab": {
          "base_uri": "https://localhost:8080/"
        },
        "id": "X2L30d_pA0Vg",
        "outputId": "6bc70399-d1d9-4b8e-d3c2-e545f4eb735c"
      },
      "execution_count": null,
      "outputs": [
        {
          "output_type": "stream",
          "name": "stdout",
          "text": [
            "usted cuantos dias trabaja almes : 24\n",
            "su sueldo basico es de? $3150000\n",
            "usted no cuenta con ningun beneficio\n"
          ]
        }
      ]
    }
  ]
}