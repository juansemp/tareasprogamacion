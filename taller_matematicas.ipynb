{
  "nbformat": 4,
  "nbformat_minor": 0,
  "metadata": {
    "colab": {
      "provenance": []
    },
    "kernelspec": {
      "name": "python3",
      "display_name": "Python 3"
    },
    "language_info": {
      "name": "python"
    }
  },
  "cells": [
    {
      "cell_type": "code",
      "execution_count": null,
      "metadata": {
        "id": "sIbis_jDUUut",
        "colab": {
          "base_uri": "https://localhost:8080/"
        },
        "outputId": "d29a0e63-e1f3-4926-a58c-fb8bd1036087"
      },
      "outputs": [
        {
          "output_type": "stream",
          "name": "stdout",
          "text": [
            "Digite su sueldo $30000000000\n",
            "Digite la venta 1 $200000000\n",
            "Digite la venta 2 $3000\n",
            "Digite la venta 3 $50000000000\n",
            "\n",
            "la ganancia de la venta1 es de = $20,000,000\n",
            "\n",
            "la ganancia de la venta2 es de = $300\n",
            "\n",
            "la ganancia de la venta3 es de = $5,000,000,000\n",
            "\n",
            "la comision del mes es de = $5,020,000,300\n",
            "\n",
            "el sueldo total del mes es de = $35,020,000,300\n"
          ]
        }
      ],
      "source": [
        "sueldo = int (input(\"Digite su sueldo $\"))\n",
        "venta1 = int (input(\"Digite la venta 1 $\"))\n",
        "venta2 = int (input(\"Digite la venta 2 $\"))\n",
        "venta3 = int (input(\"Digite la venta 3 $\"))\n",
        "comision1 = venta1 * 0.1\n",
        "comision2 = venta2 * 0.1\n",
        "comision3 = venta3 * 0.1\n",
        "print(f\"\\nla ganancia de la venta1 es de = ${comision1 :,.0f}\")\n",
        "print(f\"\\nla ganancia de la venta2 es de = ${comision2 :,.0f}\")\n",
        "print(f\"\\nla ganancia de la venta3 es de = ${comision3 :,.0f}\")\n",
        "totalcomision = comision1 + comision2 + comision3\n",
        "print(f\"\\nla comision del mes es de = ${totalcomision :,.0f}\")\n",
        "sueldototal = sueldo + totalcomision\n",
        "print(f\"\\nel sueldo total del mes es de = ${sueldototal :,.0f}\")"
      ]
    },
    {
      "cell_type": "code",
      "source": [
        "compra = int (input(\"Digite el valor de la compra $\"))\n",
        "descuento = compra * 0.15\n",
        "totalapagar = compra - descuento\n",
        "print(f\"\\nel total a pagar es de = ${totalapagar :,.0f}\")"
      ],
      "metadata": {
        "colab": {
          "base_uri": "https://localhost:8080/"
        },
        "id": "phjOR0LvaMe7",
        "outputId": "6cc23e20-bcd6-4a7d-859f-5d827cd62aa2"
      },
      "execution_count": null,
      "outputs": [
        {
          "output_type": "stream",
          "name": "stdout",
          "text": [
            "Digite el valor de la compra $200000\n",
            "\n",
            "el total a pagar es de = $170,000\n"
          ]
        }
      ]
    },
    {
      "cell_type": "code",
      "source": [
        "nota1 = float (input(\"Digite primera nota \"))\n",
        "nota2 = float (input(\"Digite primera nota \"))\n",
        "nota3 = float (input(\"Digite primera nota \"))\n",
        "unionnota1 = nota1 + nota2\n",
        "unionnota2 = unionnota1 + nota3\n",
        "notafinal = unionnota2 / 3\n",
        "print(f\"\\nla nota final es de = {notafinal}\")"
      ],
      "metadata": {
        "colab": {
          "base_uri": "https://localhost:8080/"
        },
        "id": "s82ub4JrbnZt",
        "outputId": "f1923bc7-df0c-4060-9e8a-c75691818d95"
      },
      "execution_count": null,
      "outputs": [
        {
          "output_type": "stream",
          "name": "stdout",
          "text": [
            "Digite primera nota 4.3\n",
            "Digite primera nota 5\n",
            "Digite primera nota 2.7\n",
            "\n",
            "la nota final es de = 4.0\n"
          ]
        }
      ]
    },
    {
      "cell_type": "code",
      "source": [
        "hombres = float (input(\"Digite cantidad de hombres \"))\n",
        "mujeres = float (input(\"Digite cantidad de mujeres \"))\n",
        "total = hombres + mujeres\n",
        "totalhombres = hombres * 100\n",
        "totalho = totalhombres / total\n",
        "totalmujeres = mujeres * 100\n",
        "totalmu = totalmujeres / total\n",
        "print(f\"\\nel procentaje de mujeres es de = {totalmu}%\")\n",
        "print(f\"\\nel procentaje de hombres es de = {totalho}%\")"
      ],
      "metadata": {
        "colab": {
          "base_uri": "https://localhost:8080/"
        },
        "id": "7BP6cpypgtCO",
        "outputId": "72117dfa-f493-4373-b654-487b2aa5010a"
      },
      "execution_count": null,
      "outputs": [
        {
          "output_type": "stream",
          "name": "stdout",
          "text": [
            "Digite cantidad de hombres 80\n",
            "Digite cantidad de mujeres 230\n",
            "\n",
            "el procentaje de mujeres es de = 74.19354838709677%\n",
            "\n",
            "el procentaje de hombres es de = 25.806451612903224%\n"
          ]
        }
      ]
    }
  ]
}